{
  "nbformat": 4,
  "nbformat_minor": 0,
  "metadata": {
    "colab": {
      "provenance": [],
      "gpuType": "T4"
    },
    "kernelspec": {
      "name": "python3",
      "display_name": "Python 3"
    },
    "language_info": {
      "name": "python"
    }
  },
  "cells": [
    {
      "cell_type": "code",
      "execution_count": 3,
      "metadata": {
        "colab": {
          "base_uri": "https://localhost:8080/"
        },
        "id": "jv9UncvociuL",
        "outputId": "3b64c24c-dd1c-4351-b033-cceb0e4dcd29"
      },
      "outputs": [
        {
          "output_type": "stream",
          "name": "stdout",
          "text": [
            "Collecting scienceplots\n",
            "  Downloading SciencePlots-2.1.1-py3-none-any.whl (16 kB)\n",
            "Requirement already satisfied: matplotlib in /usr/local/lib/python3.10/dist-packages (from scienceplots) (3.7.1)\n",
            "Requirement already satisfied: contourpy>=1.0.1 in /usr/local/lib/python3.10/dist-packages (from matplotlib->scienceplots) (1.2.0)\n",
            "Requirement already satisfied: cycler>=0.10 in /usr/local/lib/python3.10/dist-packages (from matplotlib->scienceplots) (0.12.1)\n",
            "Requirement already satisfied: fonttools>=4.22.0 in /usr/local/lib/python3.10/dist-packages (from matplotlib->scienceplots) (4.46.0)\n",
            "Requirement already satisfied: kiwisolver>=1.0.1 in /usr/local/lib/python3.10/dist-packages (from matplotlib->scienceplots) (1.4.5)\n",
            "Requirement already satisfied: numpy>=1.20 in /usr/local/lib/python3.10/dist-packages (from matplotlib->scienceplots) (1.23.5)\n",
            "Requirement already satisfied: packaging>=20.0 in /usr/local/lib/python3.10/dist-packages (from matplotlib->scienceplots) (23.2)\n",
            "Requirement already satisfied: pillow>=6.2.0 in /usr/local/lib/python3.10/dist-packages (from matplotlib->scienceplots) (9.4.0)\n",
            "Requirement already satisfied: pyparsing>=2.3.1 in /usr/local/lib/python3.10/dist-packages (from matplotlib->scienceplots) (3.1.1)\n",
            "Requirement already satisfied: python-dateutil>=2.7 in /usr/local/lib/python3.10/dist-packages (from matplotlib->scienceplots) (2.8.2)\n",
            "Requirement already satisfied: six>=1.5 in /usr/local/lib/python3.10/dist-packages (from python-dateutil>=2.7->matplotlib->scienceplots) (1.16.0)\n",
            "Installing collected packages: scienceplots\n",
            "Successfully installed scienceplots-2.1.1\n"
          ]
        }
      ],
      "source": [
        "import numpy as np\n",
        "import time\n",
        "import matplotlib.pyplot as plt\n",
        "!pip install scienceplots\n",
        "import scienceplots as sp\n",
        "import sys\n",
        "plt.style.use(['science','notebook','grid'])\n",
        "\n"
      ]
    },
    {
      "cell_type": "code",
      "source": [
        "x = np.array([1,2])\n",
        "print(f\" the given input is of type {type(x)} has an shape {x.shape} and looks like {x}\")"
      ],
      "metadata": {
        "colab": {
          "base_uri": "https://localhost:8080/"
        },
        "id": "4MA_oBXT-yJL",
        "outputId": "d11a18cb-df6a-49c4-9b21-dfe295016ecd"
      },
      "execution_count": 85,
      "outputs": [
        {
          "output_type": "stream",
          "name": "stdout",
          "text": [
            " the given input is of type <class 'numpy.ndarray'> has an shape (2,) and looks like [1 2]\n"
          ]
        }
      ]
    },
    {
      "cell_type": "markdown",
      "source": [],
      "metadata": {
        "id": "Yo5HV3r_nPgT"
      }
    },
    {
      "cell_type": "code",
      "source": [
        "w = np.array([[1,-2],[2,1],[1,-1]])\n",
        "w = w.T\n",
        "print(f\" the given input is of type {type(w)} has an shape {w.shape} and looks like {w}\")\n",
        "b = np.array([5,2,6])\n",
        "print(f\" the given input is of type {type(b)} has an shape {b.shape} and looks like {b}\")"
      ],
      "metadata": {
        "colab": {
          "base_uri": "https://localhost:8080/"
        },
        "id": "8j62vE4HDUus",
        "outputId": "0741cc4a-b613-40cc-d234-04697aeadeaa"
      },
      "execution_count": 86,
      "outputs": [
        {
          "output_type": "stream",
          "name": "stdout",
          "text": [
            " the given input is of type <class 'numpy.ndarray'> has an shape (2, 3) and looks like [[ 1  2  1]\n",
            " [-2  1 -1]]\n",
            " the given input is of type <class 'numpy.ndarray'> has an shape (3,) and looks like [5 2 6]\n"
          ]
        }
      ]
    },
    {
      "cell_type": "code",
      "source": [
        "def sigmoid(x):\n",
        "  zo = 1/(1+np.exp(-x))\n",
        "  return zo"
      ],
      "metadata": {
        "id": "fQYWz2vSXOuF"
      },
      "execution_count": 87,
      "outputs": []
    },
    {
      "cell_type": "code",
      "source": [
        "def dense(x_in , w , b):\n",
        "  number_of_neurons = w.shape[1]\n",
        "  activation_array = np.zeros(number_of_neurons)\n",
        "  for i in range (number_of_neurons):\n",
        "    z_i = np.dot(w[:,i],x_in)+b[i]\n",
        "    activation_array[i] = sigmoid(z_i)\n",
        "\n",
        "  return activation_array"
      ],
      "metadata": {
        "id": "7j56N0F6EXb7"
      },
      "execution_count": 103,
      "outputs": []
    },
    {
      "cell_type": "code",
      "source": [
        "a1 = dense(x,w,b)\n",
        "print(f\" layer 1 activation ==>{a1}\")"
      ],
      "metadata": {
        "colab": {
          "base_uri": "https://localhost:8080/"
        },
        "id": "dg74Ku9UEmtj",
        "outputId": "fd7071ef-b7a5-45f0-c192-fcfac114acc9"
      },
      "execution_count": 104,
      "outputs": [
        {
          "output_type": "stream",
          "name": "stdout",
          "text": [
            " layer 1 activation ==>[0.88079708 0.99752738 0.99330715]\n"
          ]
        }
      ]
    },
    {
      "cell_type": "code",
      "source": [
        "\n",
        "w1 = np.array([[1,-1,-1]])\n",
        "w1 = w1.T\n",
        "b1 = np.array([4])\n",
        "def sequential(lol):\n",
        "  a1_ = dense(lol,w,b)\n",
        "  a2_ = dense(a1,w1,b1)\n",
        "  return a2_\n",
        "\n",
        "print(sequential(x))"
      ],
      "metadata": {
        "colab": {
          "base_uri": "https://localhost:8080/"
        },
        "id": "1vkNb6y2bOWU",
        "outputId": "feb74046-699d-4c9f-f4f7-6c88eafa6134"
      },
      "execution_count": 105,
      "outputs": [
        {
          "output_type": "stream",
          "name": "stdout",
          "text": [
            "[0.94734801]\n"
          ]
        }
      ]
    },
    {
      "cell_type": "code",
      "source": [
        "x_2d = np.array([[1,2]])\n",
        "w_2d = np.array([[1,-2],[2,1],[1,-1]])\n",
        "w_2d = w_2d.T\n",
        "b_2d = np.array([[5,2,6]])\n",
        "print(w_2d)"
      ],
      "metadata": {
        "colab": {
          "base_uri": "https://localhost:8080/"
        },
        "id": "1sJUEanwZBB7",
        "outputId": "d9e6aaa4-8d4a-4fdd-ff5b-8998cdc7762e"
      },
      "execution_count": 106,
      "outputs": [
        {
          "output_type": "stream",
          "name": "stdout",
          "text": [
            "[[ 1  2  1]\n",
            " [-2  1 -1]]\n"
          ]
        }
      ]
    },
    {
      "cell_type": "code",
      "source": [
        "def dense_vectorized(x_in ,w,b):\n",
        "  z = np.matmul(x_in,w)\n",
        "  z = z+b\n",
        "  activation_array = sigmoid(z)\n",
        "  return activation_array\n",
        ""
      ],
      "metadata": {
        "id": "rmmDaY8mYrY0"
      },
      "execution_count": 107,
      "outputs": []
    },
    {
      "cell_type": "code",
      "source": [
        "a1_vec = dense_vectorized(x,w_2d,b_2d)\n",
        "print(a1_vec)"
      ],
      "metadata": {
        "colab": {
          "base_uri": "https://localhost:8080/"
        },
        "id": "YrEU8z6earDk",
        "outputId": "62c74202-84d1-4f57-fb2a-53ff4e36413a"
      },
      "execution_count": 108,
      "outputs": [
        {
          "output_type": "stream",
          "name": "stdout",
          "text": [
            "[[0.88079708 0.99752738 0.99330715]]\n"
          ]
        }
      ]
    },
    {
      "cell_type": "code",
      "source": [
        "w1_vec = np.array([[1,-1,-1]])\n",
        "w1_vec = w1_vec.T\n",
        "b1_vec = np.array([[4]])\n",
        "def sequential(lol):\n",
        "  a1_ = dense_vectorized(lol,w,b)\n",
        "  a2_ = dense_vectorized(a1,w1_vec,b1_vec)\n",
        "  return a2_\n",
        "\n",
        "print(sequential(x))"
      ],
      "metadata": {
        "colab": {
          "base_uri": "https://localhost:8080/"
        },
        "id": "5jsJHY9Udn5L",
        "outputId": "d923e14f-eb1f-445b-9e89-299004b3606c"
      },
      "execution_count": 109,
      "outputs": [
        {
          "output_type": "stream",
          "name": "stdout",
          "text": [
            "[[0.94734801]]\n"
          ]
        }
      ]
    }
  ]
}